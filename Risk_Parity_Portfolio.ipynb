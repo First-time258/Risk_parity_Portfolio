{
 "cells": [
  {
   "cell_type": "code",
   "execution_count": 119,
   "id": "ae1460db-fe98-42da-a243-c51abf326db8",
   "metadata": {},
   "outputs": [],
   "source": [
    "import pandas as pd\n",
    "import numpy as np\n",
    "import yfinance as yf\n",
    "from scipy.optimize import minimize\n",
    "import warnings\n",
    "warnings.filterwarnings('ignore')\n",
    "from tqdm import tqdm"
   ]
  },
  {
   "cell_type": "markdown",
   "id": "d7f1d895-260e-4c28-ad97-a5ac2e710a19",
   "metadata": {},
   "source": [
    "# Downloading and return Calculations"
   ]
  },
  {
   "cell_type": "code",
   "execution_count": 120,
   "id": "bb492e7b-e075-4b40-b721-25ad83310010",
   "metadata": {},
   "outputs": [
    {
     "name": "stderr",
     "output_type": "stream",
     "text": [
      "[*********************100%%**********************]  1 of 1 completed\n",
      "[*********************100%%**********************]  1 of 1 completed\n",
      "[*********************100%%**********************]  1 of 1 completed\n",
      "[*********************100%%**********************]  1 of 1 completed\n",
      "[*********************100%%**********************]  1 of 1 completed\n",
      "100%|██████████| 5/5 [00:01<00:00,  4.42it/s]\n"
     ]
    },
    {
     "data": {
      "text/html": [
       "<div>\n",
       "<style scoped>\n",
       "    .dataframe tbody tr th:only-of-type {\n",
       "        vertical-align: middle;\n",
       "    }\n",
       "\n",
       "    .dataframe tbody tr th {\n",
       "        vertical-align: top;\n",
       "    }\n",
       "\n",
       "    .dataframe thead th {\n",
       "        text-align: right;\n",
       "    }\n",
       "</style>\n",
       "<table border=\"1\" class=\"dataframe\">\n",
       "  <thead>\n",
       "    <tr style=\"text-align: right;\">\n",
       "      <th></th>\n",
       "      <th>AAPL</th>\n",
       "      <th>TSLA</th>\n",
       "      <th>AMZN</th>\n",
       "      <th>GOOGL</th>\n",
       "      <th>META</th>\n",
       "    </tr>\n",
       "    <tr>\n",
       "      <th>Date</th>\n",
       "      <th></th>\n",
       "      <th></th>\n",
       "      <th></th>\n",
       "      <th></th>\n",
       "      <th></th>\n",
       "    </tr>\n",
       "  </thead>\n",
       "  <tbody>\n",
       "    <tr>\n",
       "      <th>2020-01-03</th>\n",
       "      <td>-0.009722</td>\n",
       "      <td>0.029633</td>\n",
       "      <td>-0.012139</td>\n",
       "      <td>-0.005231</td>\n",
       "      <td>-0.005291</td>\n",
       "    </tr>\n",
       "    <tr>\n",
       "      <th>2020-01-06</th>\n",
       "      <td>0.007968</td>\n",
       "      <td>0.019255</td>\n",
       "      <td>0.014886</td>\n",
       "      <td>0.026654</td>\n",
       "      <td>0.018834</td>\n",
       "    </tr>\n",
       "    <tr>\n",
       "      <th>2020-01-07</th>\n",
       "      <td>-0.004703</td>\n",
       "      <td>0.038801</td>\n",
       "      <td>0.002092</td>\n",
       "      <td>-0.001932</td>\n",
       "      <td>0.002164</td>\n",
       "    </tr>\n",
       "    <tr>\n",
       "      <th>2020-01-08</th>\n",
       "      <td>0.016086</td>\n",
       "      <td>0.049205</td>\n",
       "      <td>-0.007809</td>\n",
       "      <td>0.007118</td>\n",
       "      <td>0.010138</td>\n",
       "    </tr>\n",
       "    <tr>\n",
       "      <th>2020-01-09</th>\n",
       "      <td>0.021241</td>\n",
       "      <td>-0.021945</td>\n",
       "      <td>0.004799</td>\n",
       "      <td>0.010498</td>\n",
       "      <td>0.014311</td>\n",
       "    </tr>\n",
       "    <tr>\n",
       "      <th>...</th>\n",
       "      <td>...</td>\n",
       "      <td>...</td>\n",
       "      <td>...</td>\n",
       "      <td>...</td>\n",
       "      <td>...</td>\n",
       "    </tr>\n",
       "    <tr>\n",
       "      <th>2024-06-10</th>\n",
       "      <td>-0.019148</td>\n",
       "      <td>-0.020791</td>\n",
       "      <td>0.014976</td>\n",
       "      <td>0.004304</td>\n",
       "      <td>0.019555</td>\n",
       "    </tr>\n",
       "    <tr>\n",
       "      <th>2024-06-11</th>\n",
       "      <td>0.072649</td>\n",
       "      <td>-0.018010</td>\n",
       "      <td>0.000909</td>\n",
       "      <td>0.009199</td>\n",
       "      <td>0.009690</td>\n",
       "    </tr>\n",
       "    <tr>\n",
       "      <th>2024-06-12</th>\n",
       "      <td>0.028578</td>\n",
       "      <td>0.038849</td>\n",
       "      <td>-0.001816</td>\n",
       "      <td>0.006624</td>\n",
       "      <td>0.002700</td>\n",
       "    </tr>\n",
       "    <tr>\n",
       "      <th>2024-06-13</th>\n",
       "      <td>0.005491</td>\n",
       "      <td>0.029218</td>\n",
       "      <td>-0.016373</td>\n",
       "      <td>-0.014793</td>\n",
       "      <td>-0.009315</td>\n",
       "    </tr>\n",
       "    <tr>\n",
       "      <th>2024-06-14</th>\n",
       "      <td>-0.008168</td>\n",
       "      <td>-0.024442</td>\n",
       "      <td>-0.000925</td>\n",
       "      <td>0.009306</td>\n",
       "      <td>0.001112</td>\n",
       "    </tr>\n",
       "  </tbody>\n",
       "</table>\n",
       "<p>1120 rows × 5 columns</p>\n",
       "</div>"
      ],
      "text/plain": [
       "                AAPL      TSLA      AMZN     GOOGL      META\n",
       "Date                                                        \n",
       "2020-01-03 -0.009722  0.029633 -0.012139 -0.005231 -0.005291\n",
       "2020-01-06  0.007968  0.019255  0.014886  0.026654  0.018834\n",
       "2020-01-07 -0.004703  0.038801  0.002092 -0.001932  0.002164\n",
       "2020-01-08  0.016086  0.049205 -0.007809  0.007118  0.010138\n",
       "2020-01-09  0.021241 -0.021945  0.004799  0.010498  0.014311\n",
       "...              ...       ...       ...       ...       ...\n",
       "2024-06-10 -0.019148 -0.020791  0.014976  0.004304  0.019555\n",
       "2024-06-11  0.072649 -0.018010  0.000909  0.009199  0.009690\n",
       "2024-06-12  0.028578  0.038849 -0.001816  0.006624  0.002700\n",
       "2024-06-13  0.005491  0.029218 -0.016373 -0.014793 -0.009315\n",
       "2024-06-14 -0.008168 -0.024442 -0.000925  0.009306  0.001112\n",
       "\n",
       "[1120 rows x 5 columns]"
      ]
     },
     "execution_count": 120,
     "metadata": {},
     "output_type": "execute_result"
    }
   ],
   "source": [
    "def returns(ticker_list):\n",
    "    for ticker in tqdm(ticker_list):\n",
    "        df = yf.download(ticker,start = '2020-01-01')\n",
    "        df['daily_ret'] = df['Adj Close'].pct_change()\n",
    "        df_1[ticker] = df['daily_ret']\n",
    "        df_1.dropna(inplace = True)\n",
    "    return df_1\n",
    "ticker_list = ['AAPL','TSLA','AMZN','GOOGL','META']\n",
    "n = len(ticker_list)\n",
    "df_1 = pd.DataFrame()\n",
    "df = returns(ticker_list)\n",
    "df"
   ]
  },
  {
   "cell_type": "markdown",
   "id": "669af25e-f6b0-42b9-b90d-3b38e40429a1",
   "metadata": {},
   "source": [
    "# Covariance matrix "
   ]
  },
  {
   "cell_type": "code",
   "execution_count": 107,
   "id": "5a44b792-4c67-4ca7-8450-6f00bd7410d3",
   "metadata": {},
   "outputs": [
    {
     "data": {
      "text/plain": [
       "array([[0.00042683, 0.00043257, 0.00028787, 0.00028619, 0.00034465],\n",
       "       [0.00043257, 0.00177181, 0.00041929, 0.00034747, 0.00041123],\n",
       "       [0.00028787, 0.00041929, 0.00053081, 0.000314  , 0.00041456],\n",
       "       [0.00028619, 0.00034747, 0.000314  , 0.00043457, 0.00039493],\n",
       "       [0.00034465, 0.00041123, 0.00041456, 0.00039493, 0.00085607]])"
      ]
     },
     "execution_count": 107,
     "metadata": {},
     "output_type": "execute_result"
    }
   ],
   "source": [
    "sigma = df.cov()\n",
    "Sigma = sigma.values\n",
    "Sigma"
   ]
  },
  {
   "cell_type": "markdown",
   "id": "e9ec07b4-b089-4280-933a-556c61894788",
   "metadata": {},
   "source": [
    "# SQP "
   ]
  },
  {
   "cell_type": "code",
   "execution_count": 115,
   "id": "9b3c7199-1894-4b2b-a261-abcbc60c81a0",
   "metadata": {},
   "outputs": [
    {
     "name": "stdout",
     "output_type": "stream",
     "text": [
      "Optimal solution: [0.21925696 0.14203204 0.21581026 0.22047782 0.20242292]\n",
      "Objective function value: 6.5819183768814185e-06\n"
     ]
    }
   ],
   "source": [
    "def portfolio_volatility(x, Sigma):\n",
    "    return np.sqrt(x.T @ Sigma @ x)\n",
    "\n",
    "def calculate_mcr(x, Sigma):\n",
    "    portfolio_vol = portfolio_volatility(x, Sigma)\n",
    "    mcr = (Sigma @ x) / portfolio_vol\n",
    "    return mcr\n",
    "    \n",
    "def objective(x, Sigma):\n",
    "    sum_squared_diff = 0\n",
    "    MCR = calculate_mcr(x, Sigma) \n",
    "    for i in range(len(x)):\n",
    "        for j in range(len(x)):\n",
    "            diff = x[i] * MCR[i] - x[j] * MCR[j]\n",
    "            sum_squared_diff += diff ** 2\n",
    "    return sum_squared_diff\n",
    "\n",
    "\n",
    "def constraint_eq(x):\n",
    "    return np.sum(x) - 1\n",
    "\n",
    "bounds = [(0, 1) for _ in range(n)]\n",
    "\n",
    "x0 = np.ones(n) / n  \n",
    "\n",
    "constraints = {'type': 'eq', 'fun': constraint_eq}\n",
    "\n",
    "solution = minimize(objective, x0, args=(Sigma,), method='SLSQP', bounds=bounds, constraints=constraints)\n",
    "\n",
    "print('Optimal solution:', solution.x)\n",
    "print('Objective function value:', solution.fun)\n"
   ]
  }
 ],
 "metadata": {
  "kernelspec": {
   "display_name": "Python 3 (ipykernel)",
   "language": "python",
   "name": "python3"
  },
  "language_info": {
   "codemirror_mode": {
    "name": "ipython",
    "version": 3
   },
   "file_extension": ".py",
   "mimetype": "text/x-python",
   "name": "python",
   "nbconvert_exporter": "python",
   "pygments_lexer": "ipython3",
   "version": "3.11.7"
  }
 },
 "nbformat": 4,
 "nbformat_minor": 5
}
